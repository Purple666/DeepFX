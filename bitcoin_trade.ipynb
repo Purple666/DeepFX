{
 "cells": [
  {
   "cell_type": "code",
   "execution_count": null,
   "metadata": {
    "collapsed": true
   },
   "outputs": [],
   "source": [
    "import gym\n",
    "import gym.spaces\n",
    "import numpy as np\n",
    "import datetime as dt\n",
    "import time\n",
    "from action import Action\n",
    "from position import Position\n",
    "from fx_trade import FXTrade"
   ]
  },
  {
   "cell_type": "code",
   "execution_count": null,
   "metadata": {},
   "outputs": [],
   "source": [
    "class BitcoinTrade(FXTrade):\n",
    "    THRESHOULD_TIME_DELTA = dt.timedelta(days=1)\n",
    "    \n",
    "    def __init__(self, initial_cash, spread, hist_data, seed_value=100000,\n",
    "                 logger=None, amount_unit=1):\n",
    "        self.hist_data = hist_data\n",
    "        self.initial_cash = initial_cash\n",
    "        self.cash = initial_cash\n",
    "        self.spread = spread\n",
    "        self._positions = []\n",
    "        self._seed = seed_value\n",
    "        self._logger = logger\n",
    "        self.amount_unit = amount_unit # 1BTC\n",
    "        np.random.seed(seed_value)\n",
    "        \n",
    "        # x軸: N番目の足（時間経過）, y軸: 現在の1USDの価格（単位：円）\n",
    "        high = np.array([self.hist_data.steps(), hist_data.data()['Close'].max()]) # [x軸最大値, y軸最大値]\n",
    "        low = np.array([0, hist_data.data()['Close'].min()]) # [x軸最小値, y軸最小値]\n",
    "        self.action_space = gym.spaces.Discrete(len(Action)) # Actionクラスで定義 買う、売る、なにもしないの3択\n",
    "        self.observation_space = gym.spaces.Box(low = low, high = high) # [N番目の足, Close price]\n",
    "\n",
    "    ''' ポジションの手仕舞い、または追加オーダーをする '''\n",
    "    def _close_or_more_order(self, buy_or_sell_or_stay, now_price):\n",
    "        if not self._positions: # position is empty\n",
    "            #if buy_or_sell_or_stay != Action.STAY.value:\n",
    "            # FXでは売り買いどちらかでもポジションを持てたが、\n",
    "            # Bitcoinは買いからのみとする\n",
    "            if buy_or_sell_or_stay == Action.BUY.value:\n",
    "                self._order(buy_or_sell_or_stay,\n",
    "                            now_price=now_price, amount=self.amount_unit)\n",
    "        else: # I have positions\n",
    "            # 売り: -1 / 買い: +1のため、(-1)の乗算で逆のアクションになる\n",
    "            # reverse_action = buy_or_sell_or_stay * (-1)\n",
    "            # if self._positions[0].buy_or_sell == reverse_action:\n",
    "            # 売りサインなら手仕舞い\n",
    "            if buy_or_sell_or_stay == Action.SELL.value:\n",
    "                self._close_all_positions_by(now_price)\n",
    "            elif buy_or_sell_or_stay == Action.BUY.value:\n",
    "                # 買いサインなら買い増し追加オーダー\n",
    "                self._order(buy_or_sell_or_stay,\n",
    "                            now_price=now_price, amount=self.amount_unit)"
   ]
  },
  {
   "cell_type": "code",
   "execution_count": null,
   "metadata": {
    "collapsed": true
   },
   "outputs": [],
   "source": []
  }
 ],
 "metadata": {
  "kernelspec": {
   "display_name": "Python 3",
   "language": "python",
   "name": "python3"
  },
  "language_info": {
   "codemirror_mode": {
    "name": "ipython",
    "version": 3
   },
   "file_extension": ".py",
   "mimetype": "text/x-python",
   "name": "python",
   "nbconvert_exporter": "python",
   "pygments_lexer": "ipython3",
   "version": "3.6.3"
  },
  "toc": {
   "nav_menu": {},
   "number_sections": true,
   "sideBar": true,
   "skip_h1_title": false,
   "toc_cell": false,
   "toc_position": {},
   "toc_section_display": "block",
   "toc_window_display": false
  }
 },
 "nbformat": 4,
 "nbformat_minor": 2
}
