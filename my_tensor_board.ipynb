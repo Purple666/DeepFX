{
 "cells": [
  {
   "cell_type": "code",
   "execution_count": null,
   "metadata": {
    "collapsed": true
   },
   "outputs": [],
   "source": [
    "import tensorflow as tf\n",
    "import keras"
   ]
  },
  {
   "cell_type": "code",
   "execution_count": null,
   "metadata": {
    "collapsed": true
   },
   "outputs": [],
   "source": [
    "''' 元のTensorBoardだと、value.item()で死ぬのでvalueに変更。変更点はここだけ。 '''\n",
    "class MyTensorBoard(keras.callbacks.TensorBoard):\n",
    "    def on_epoch_end(self, epoch, logs=None):\n",
    "        logs = logs or {}\n",
    "\n",
    "        if self.validation_data and self.histogram_freq:\n",
    "            if epoch % self.histogram_freq == 0:\n",
    "                # TODO: implement batched calls to sess.run\n",
    "                # (current call will likely go OOM on GPU)\n",
    "                if self.model.uses_learning_phase:\n",
    "                    cut_v_data = len(self.model.inputs)\n",
    "                    val_data = self.validation_data[:cut_v_data] + [0]\n",
    "                    tensors = self.model.inputs + [K.learning_phase()]\n",
    "                else:\n",
    "                    val_data = self.validation_data\n",
    "                    tensors = self.model.inputs\n",
    "                feed_dict = dict(zip(tensors, val_data))\n",
    "                result = self.sess.run([self.merged], feed_dict=feed_dict)\n",
    "                summary_str = result[0]\n",
    "                self.writer.add_summary(summary_str, epoch)\n",
    "\n",
    "        if self.embeddings_freq and self.embeddings_logs:\n",
    "            if epoch % self.embeddings_freq == 0:\n",
    "                for log in self.embeddings_logs:\n",
    "                    self.saver.save(self.sess, log, epoch)\n",
    "\n",
    "        for name, value in logs.items():\n",
    "            if name in ['batch', 'size']:\n",
    "                continue\n",
    "            summary = tf.Summary()\n",
    "            summary_value = summary.value.add()\n",
    "            summary_value.simple_value = value # Modified from: value.item()\n",
    "            summary_value.tag = name\n",
    "            self.writer.add_summary(summary, epoch)\n",
    "        self.writer.flush()"
   ]
  }
 ],
 "metadata": {
  "kernelspec": {
   "display_name": "Python 3",
   "language": "python",
   "name": "python3"
  },
  "language_info": {
   "codemirror_mode": {
    "name": "ipython",
    "version": 3
   },
   "file_extension": ".py",
   "mimetype": "text/x-python",
   "name": "python",
   "nbconvert_exporter": "python",
   "pygments_lexer": "ipython3",
   "version": "3.6.2"
  },
  "toc": {
   "nav_menu": {},
   "number_sections": true,
   "sideBar": true,
   "skip_h1_title": false,
   "toc_cell": false,
   "toc_position": {},
   "toc_section_display": "block",
   "toc_window_display": false
  }
 },
 "nbformat": 4,
 "nbformat_minor": 2
}
