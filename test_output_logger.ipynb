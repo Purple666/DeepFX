{
 "cells": [
  {
   "cell_type": "code",
   "execution_count": null,
   "metadata": {},
   "outputs": [],
   "source": [
    "from rl.callbacks import TrainEpisodeLogger\n",
    "import matplotlib.pyplot as plt\n",
    "%matplotlib notebook\n",
    "import warnings\n",
    "import timeit\n",
    "import json\n",
    "\n",
    "import numpy as np"
   ]
  },
  {
   "cell_type": "code",
   "execution_count": null,
   "metadata": {
    "collapsed": true
   },
   "outputs": [],
   "source": [
    "class TestOutputLogger(TrainEpisodeLogger):\n",
    "    def __init__(self, hist_data):\n",
    "        self.logs = []\n",
    "        self.hist_data = hist_data\n",
    "        super(TestOutputLogger, self).__init__()\n",
    "\n",
    "    def on_train_begin(self, logs):\n",
    "        pass\n",
    "\n",
    "    def on_train_end(self, logs):\n",
    "        pass\n",
    "\n",
    "    def on_episode_begin(self, episode, logs):\n",
    "        pass\n",
    "\n",
    "    def on_step_end(self, step, logs):\n",
    "        self.logs.append(logs)\n",
    "        #print(logs)\n",
    "\n",
    "    def on_episode_end(self, episode, logs):\n",
    "        x = self.hist_data.data().index\n",
    "        y_reward = [step['reward'] for step in self.logs]\n",
    "        y_price =  self.hist_data.data().loc[:, ['Close']].values\n",
    "        y_reward.insert(0, np.nan)\n",
    "        \n",
    "        fig, ax1 = plt.subplots()\n",
    "        ax1.plot(y_reward)\n",
    "        ax2 = ax1.twinx()\n",
    "        ax2.plot(y_price)\n",
    "        plt.show()"
   ]
  }
 ],
 "metadata": {
  "kernelspec": {
   "display_name": "Python 3",
   "language": "python",
   "name": "python3"
  },
  "language_info": {
   "codemirror_mode": {
    "name": "ipython",
    "version": 3
   },
   "file_extension": ".py",
   "mimetype": "text/x-python",
   "name": "python",
   "nbconvert_exporter": "python",
   "pygments_lexer": "ipython3",
   "version": "3.6.3"
  },
  "toc": {
   "nav_menu": {},
   "number_sections": true,
   "sideBar": true,
   "skip_h1_title": false,
   "toc_cell": false,
   "toc_position": {},
   "toc_section_display": "block",
   "toc_window_display": false
  }
 },
 "nbformat": 4,
 "nbformat_minor": 2
}
