{
 "cells": [
  {
   "cell_type": "code",
   "execution_count": null,
   "metadata": {
    "collapsed": true
   },
   "outputs": [],
   "source": [
    "import pandas as pd"
   ]
  },
  {
   "cell_type": "code",
   "execution_count": null,
   "metadata": {},
   "outputs": [],
   "source": [
    "class HistData:\n",
    "    def __init__(self, csv_path=None, begin_date=None, end_date=None, range_limited=True):\n",
    "        self.csv_path = csv_path\n",
    "        self.csv_data = pd.read_csv(self.csv_path, index_col='date', parse_dates=['date'],\n",
    "                                    names=['date', 'open', 'high', 'low', 'close', 'volume'],\n",
    "                                    dtype={'date': 'str', 'open': 'float', 'high': 'float', 'low': 'float', 'close': 'float', 'volume': 'int'},\n",
    "                                    sep=';')\n",
    "        self.begin_date = begin_date\n",
    "        self.end_date = end_date\n",
    "        if range_limited:\n",
    "            self.csv_data = self.data()\n",
    "        \n",
    "    def data(self):\n",
    "        if self.begin_date is None and self.end_date is None:\n",
    "            return self.csv_data\n",
    "        else:\n",
    "            is_in_date_array = (self.csv_data.index >= self.begin_date) & \\\n",
    "                                (self.csv_data.index <= self.end_date)\n",
    "            return self.csv_data.ix[is_in_date_array]\n",
    "\n",
    "    def max_value(self):\n",
    "        return self.data()[['High']].max()['High']\n",
    "\n",
    "    def min_value(self):\n",
    "        return self.data()[['Low']].min()['Low']\n",
    "\n",
    "    def dates(self):\n",
    "        return self.data().index.values\n",
    "\n",
    "    ''' 引数の日時がデータフレームに含まれるか '''\n",
    "    def has_datetime(self, datetime64_value):\n",
    "        try:\n",
    "            h.data().loc[datetime64_value]\n",
    "            return True\n",
    "        except KeyError:\n",
    "            return False\n",
    "\n",
    "    def _get_nearist_index(self, before_or_after, datetime):\n",
    "        if before_or_after == 'before':\n",
    "            offset = -1\n",
    "        else:\n",
    "            offset = 0\n",
    "        index = max(h.data().index.searchsorted(datetime) + offset, 0)\n",
    "        return self.data().ix[self.data().index[index]]\n",
    "\n",
    "    ''' 引数の日時を含まない直前に存在する値を取得する '''        \n",
    "    def get_last_exist_datetime(self, datetime64_value):\n",
    "        return self._get_nearist_index('before', datetime64_value)\n",
    "        \n",
    "    ''' 引数の日時を含む直後に存在する値を取得する '''\n",
    "    def get_next_exist_datetime(self, datetime64_value):\n",
    "        return self._get_nearist_index('after', datetime64_value)\n",
    "    \n",
    "    ''' fromとtoの日時の差が閾値内にあるか否か '''\n",
    "    def is_datetime_diff_in_threshould(self, from_datetime, to_datetime, threshold_timedelta):\n",
    "        last_datetime = h.get_last_exist_datetime(from_datetime)\n",
    "        next_exist_datetime = h.get_next_exist_datetime(to_datetime)\n",
    "        delta = next_exist_datetime.name - last_datetime.name\n",
    "        return delta <= threshold_timedelta"
   ]
  },
  {
   "cell_type": "code",
   "execution_count": null,
   "metadata": {
    "scrolled": true
   },
   "outputs": [
    {
     "name": "stdout",
     "output_type": "stream",
     "text": [
      "                        open     high      low    close  volume\n",
      "date                                                           \n",
      "2017-10-01 17:00:00  112.627  112.658  112.526  112.526       0\n",
      "2017-10-01 17:01:00  112.536  112.536  112.480  112.510       0\n",
      "2017-10-01 17:03:00  112.512  112.532  112.510  112.510       0\n",
      "2017-10-01 17:04:00  112.513  112.514  112.513  112.514       0\n",
      "2017-10-01 17:05:00  112.519  112.531  112.519  112.530       0\n",
      "2017-10-01 17:06:00  112.529  112.529  112.509  112.509       0\n",
      "2017-10-01 17:07:00  112.502  112.586  112.460  112.553       0\n",
      "2017-10-01 17:08:00  112.498  112.498  112.498  112.498       0\n",
      "2017-10-01 17:09:00  112.496  112.496  112.496  112.496       0\n",
      "2017-10-01 17:10:00  112.488  112.506  112.484  112.502       0\n",
      "2017-10-01 17:11:00  112.505  112.505  112.497  112.497       0\n",
      "2017-10-01 17:12:00  112.496  112.496  112.487  112.487       0\n",
      "2017-10-01 17:13:00  112.484  112.520  112.480  112.495       0\n",
      "2017-10-01 17:14:00  112.492  112.501  112.492  112.500       0\n",
      "2017-10-01 17:15:00  112.500  112.516  112.482  112.511       0\n",
      "2017-10-01 17:16:00  112.513  112.513  112.506  112.506       0\n",
      "2017-10-01 17:17:00  112.509  112.509  112.509  112.509       0\n",
      "2017-10-01 17:19:00  112.499  112.499  112.499  112.499       0\n",
      "2017-10-01 17:21:00  112.499  112.499  112.499  112.499       0\n",
      "2017-10-01 17:24:00  112.499  112.499  112.499  112.499       0\n",
      "2017-10-01 17:25:00  112.499  112.499  112.499  112.499       0\n",
      "2017-10-01 17:27:00  112.499  112.499  112.499  112.499       0\n",
      "2017-10-01 17:28:00  112.499  112.499  112.499  112.499       0\n",
      "2017-10-01 17:29:00  112.499  112.499  112.499  112.499       0\n",
      "2017-10-01 17:30:00  112.497  112.497  112.497  112.497       0\n",
      "2017-10-01 17:31:00  112.497  112.508  112.492  112.506       0\n",
      "2017-10-01 17:33:00  112.508  112.508  112.508  112.508       0\n",
      "2017-10-01 17:34:00  112.506  112.508  112.506  112.508       0\n",
      "2017-10-01 17:35:00  112.506  112.507  112.506  112.507       0\n",
      "2017-10-01 17:36:00  112.507  112.507  112.507  112.507       0\n",
      "...                      ...      ...      ...      ...     ...\n",
      "2017-10-06 16:29:00  112.646  112.648  112.638  112.642       0\n",
      "2017-10-06 16:30:00  112.642  112.642  112.641  112.642       0\n",
      "2017-10-06 16:31:00  112.643  112.643  112.642  112.643       0\n",
      "2017-10-06 16:32:00  112.642  112.644  112.639  112.639       0\n",
      "2017-10-06 16:33:00  112.638  112.638  112.629  112.631       0\n",
      "2017-10-06 16:34:00  112.632  112.632  112.620  112.626       0\n",
      "2017-10-06 16:35:00  112.626  112.626  112.619  112.619       0\n",
      "2017-10-06 16:36:00  112.618  112.618  112.612  112.617       0\n",
      "2017-10-06 16:37:00  112.615  112.619  112.610  112.611       0\n",
      "2017-10-06 16:38:00  112.610  112.610  112.606  112.606       0\n",
      "2017-10-06 16:39:00  112.607  112.609  112.604  112.606       0\n",
      "2017-10-06 16:41:00  112.608  112.613  112.606  112.613       0\n",
      "2017-10-06 16:42:00  112.615  112.621  112.611  112.620       0\n",
      "2017-10-06 16:43:00  112.621  112.626  112.618  112.620       0\n",
      "2017-10-06 16:44:00  112.620  112.624  112.618  112.620       0\n",
      "2017-10-06 16:45:00  112.620  112.627  112.617  112.626       0\n",
      "2017-10-06 16:46:00  112.625  112.627  112.618  112.618       0\n",
      "2017-10-06 16:47:00  112.618  112.620  112.618  112.620       0\n",
      "2017-10-06 16:48:00  112.619  112.631  112.618  112.631       0\n",
      "2017-10-06 16:49:00  112.631  112.631  112.624  112.628       0\n",
      "2017-10-06 16:50:00  112.626  112.644  112.624  112.638       0\n",
      "2017-10-06 16:51:00  112.638  112.651  112.638  112.649       0\n",
      "2017-10-06 16:52:00  112.646  112.651  112.642  112.649       0\n",
      "2017-10-06 16:53:00  112.649  112.653  112.645  112.645       0\n",
      "2017-10-06 16:54:00  112.649  112.650  112.642  112.649       0\n",
      "2017-10-06 16:55:00  112.643  112.652  112.633  112.647       0\n",
      "2017-10-06 16:56:00  112.647  112.648  112.637  112.646       0\n",
      "2017-10-06 16:57:00  112.648  112.648  112.614  112.638       0\n",
      "2017-10-06 16:58:00  112.635  112.642  112.627  112.637       0\n",
      "2017-10-06 16:59:00  112.631  112.645  112.606  112.618       0\n",
      "\n",
      "[7147 rows x 5 columns]\n"
     ]
    }
   ],
   "source": [
    "if __name__ == '__main__':\n",
    "    begin = '2017-10-01T00:00:00'\n",
    "    end = '2017-10-07T23:59:59'\n",
    "    hd = HistData(csv_path='historical_data/DAT_ASCII_USDJPY_M1_201710.csv', begin_date=begin, end_date=end)\n",
    "    print(hd.data())"
   ]
  },
  {
   "cell_type": "code",
   "execution_count": null,
   "metadata": {
    "collapsed": true
   },
   "outputs": [],
   "source": []
  }
 ],
 "metadata": {
  "kernelspec": {
   "display_name": "Python 3",
   "language": "python",
   "name": "python3"
  },
  "language_info": {
   "codemirror_mode": {
    "name": "ipython",
    "version": 3
   },
   "file_extension": ".py",
   "mimetype": "text/x-python",
   "name": "python",
   "nbconvert_exporter": "python",
   "pygments_lexer": "ipython3",
   "version": "3.6.2"
  },
  "toc": {
   "nav_menu": {},
   "number_sections": true,
   "sideBar": true,
   "skip_h1_title": false,
   "toc_cell": false,
   "toc_position": {},
   "toc_section_display": "block",
   "toc_window_display": false
  }
 },
 "nbformat": 4,
 "nbformat_minor": 2
}
