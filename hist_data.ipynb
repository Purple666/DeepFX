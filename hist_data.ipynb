{
 "cells": [
  {
   "cell_type": "code",
   "execution_count": null,
   "metadata": {},
   "outputs": [],
   "source": [
    "import pandas as pd"
   ]
  },
  {
   "cell_type": "code",
   "execution_count": null,
   "metadata": {},
   "outputs": [],
   "source": [
    "class HistData:\n",
    "    def __init__(self, csv_path=None, begin_date=None, end_date=None, range_limited=True, sep=';'):\n",
    "        self.csv_path = csv_path\n",
    "        with open(self.csv_path) as f:\n",
    "            try:\n",
    "                int(f.readline()[0])\n",
    "                print('no header')\n",
    "                header = None\n",
    "                names = ('Date', 'Open', 'High', 'Low', 'Close', 'Volume')\n",
    "            except:\n",
    "                print('header is included')\n",
    "                header = 0\n",
    "                names = None\n",
    "        self.csv_data = pd.read_csv(self.csv_path,\n",
    "                                    names=names, header=header,\n",
    "                                    index_col='Date', parse_dates=['Date'],\n",
    "                                    dtype={'Date': 'str', 'Open': 'float', 'High': 'float', 'Low': 'float', 'Close': 'float', 'Volume': 'float'},\n",
    "                                    sep=sep)\n",
    "        self.begin_date = begin_date\n",
    "        self.end_date = end_date\n",
    "        if range_limited:\n",
    "            self.csv_data = self.data()\n",
    "            if(len(self.csv_data) is 0):\n",
    "                raise ValueError('Given csv in the range was empty.')\n",
    "        \n",
    "    def data(self):\n",
    "        if self.begin_date is None and self.end_date is None:\n",
    "            return self.csv_data\n",
    "        else:\n",
    "            is_in_date_array = (self.csv_data.index >= self.begin_date) & \\\n",
    "                                (self.csv_data.index <= self.end_date)\n",
    "            return self.csv_data.ix[is_in_date_array]\n",
    "    \n",
    "    def steps(self):\n",
    "        return len(self.csv_data) - 1;\n",
    "\n",
    "    def max_value(self):\n",
    "        return self.csv_data.max()['Close']\n",
    "\n",
    "    def min_value(self):\n",
    "        return self.csv_data.min()['Close']\n",
    "\n",
    "    def date_at(self, index):\n",
    "        return self.csv_data.iloc[index].name\n",
    "    \n",
    "    def close_at(self, index):\n",
    "        return self.csv_data.ix[[index], ['Close']].Close[0]\n",
    "    \n",
    "    def values_at(self, index):\n",
    "        return self.csv_data.ix[[index], :]\n"
   ]
  },
  {
   "cell_type": "code",
   "execution_count": null,
   "metadata": {},
   "outputs": [],
   "source": [
    "class BitcoinHistData(HistData):        \n",
    "    # https://www.kaggle.com/mczielinski/bitcoin-historical-data/data\n",
    "    # coincheckJPY_1-min_data_2014-10-31_to_2017-10-20.csv\n",
    "    import datetime\n",
    "    def __init__(self, csv_path=None, begin_date=None, end_date=None, range_limited=True, sep=','):\n",
    "        self.csv_path = csv_path\n",
    "        with open(self.csv_path) as f:\n",
    "            try:\n",
    "                int(f.readline()[0])\n",
    "                print('no header')\n",
    "                header = None\n",
    "                names = ('Timestamp', 'Open', 'High', 'Low', 'Close', 'Volume_(BTC)')\n",
    "            except:\n",
    "                print('header is included')\n",
    "                header = 0\n",
    "                names = None\n",
    "        self.csv_data = pd.read_csv(self.csv_path,\n",
    "                                    names=names, header=header,\n",
    "                                    parse_dates=['Timestamp'],\n",
    "                                    dtype={'Timestamp': 'int', 'Open': 'float', 'High': 'float', 'Low': 'float', 'Close': 'float', 'Volume': 'float'},\n",
    "                                    sep=sep)\n",
    "        self.csv_data['Date'] =  pd.to_datetime(self.csv_data['Timestamp'], unit='s')\n",
    "        self.csv_data.index = self.csv_data['Date']\n",
    "        self.begin_date = begin_date\n",
    "        self.end_date = end_date\n",
    "        if range_limited:\n",
    "            self.csv_data = self.data()\n",
    "            if(len(self.csv_data) is 0):\n",
    "                raise ValueError('Given csv in the range was empty.')\n"
   ]
  },
  {
   "cell_type": "code",
   "execution_count": null,
   "metadata": {
    "scrolled": true
   },
   "outputs": [
    {
     "name": "stdout",
     "output_type": "stream",
     "text": [
      "header is included\n",
      "498991.0\n",
      "463562.0\n",
      "2017-10-01 00:01:00\n",
      "484383.0\n",
      "                      Timestamp      Open      High       Low     Close  \\\n",
      "Date                                                                      \n",
      "2017-10-01 00:01:00  1506816060  484637.0  484755.0  484323.0  484383.0   \n",
      "\n",
      "                     Volume_(BTC)  Volume_(Currency)  Weighted_Price  \\\n",
      "Date                                                                   \n",
      "2017-10-01 00:01:00      5.014837       2.430020e+06    484566.10108   \n",
      "\n",
      "                                   Date  \n",
      "Date                                     \n",
      "2017-10-01 00:01:00 2017-10-01 00:01:00  \n"
     ]
    }
   ],
   "source": [
    "if __name__ == '__main__':\n",
    "    import numpy as np\n",
    "    begin = '2017-10-01T00:00:00'\n",
    "    end = '2017-10-07T23:59:59'\n",
    "    \n",
    "    hd = BitcoinHistData(csv_path = 'historical_data/coincheckJPY_1-min_data_2014-10-31_to_2017-10-20.csv',\n",
    "                     begin_date=begin,\n",
    "                     end_date=end)\n",
    "    #print(hd.data())\n",
    "    print(hd.max_value())\n",
    "    print(hd.min_value())\n",
    "    print(hd.date_at(1))\n",
    "    print(hd.close_at(1))\n",
    "    print(hd.values_at(1))"
   ]
  },
  {
   "cell_type": "code",
   "execution_count": null,
   "metadata": {
    "collapsed": true
   },
   "outputs": [],
   "source": []
  }
 ],
 "metadata": {
  "kernelspec": {
   "display_name": "Python 3",
   "language": "python",
   "name": "python3"
  },
  "language_info": {
   "codemirror_mode": {
    "name": "ipython",
    "version": 3
   },
   "file_extension": ".py",
   "mimetype": "text/x-python",
   "name": "python",
   "nbconvert_exporter": "python",
   "pygments_lexer": "ipython3",
   "version": "3.6.3"
  },
  "toc": {
   "nav_menu": {},
   "number_sections": true,
   "sideBar": true,
   "skip_h1_title": false,
   "toc_cell": false,
   "toc_position": {},
   "toc_section_display": "block",
   "toc_window_display": false
  }
 },
 "nbformat": 4,
 "nbformat_minor": 2
}
