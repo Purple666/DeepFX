{
 "cells": [
  {
   "cell_type": "code",
   "execution_count": null,
   "metadata": {},
   "outputs": [],
   "source": [
    "import os\n",
    "from google.cloud import storage"
   ]
  },
  {
   "cell_type": "code",
   "execution_count": null,
   "metadata": {},
   "outputs": [],
   "source": [
    "class GoogleCloudStorage:\n",
    "    def __init__(self, bucket_name=os.environ['GOOGLE_CLOUD_STORAGE_BUCKET'],\n",
    "                 service_account_json_path=os.environ['GOOGLE_SERVICE_ACCOUNT_JSON_PATH']):\n",
    "        self.client = storage.Client.from_service_account_json(service_account_json_path)\n",
    "        self.bucket = self.client.bucket(bucket_name)\n",
    "\n",
    "    def models_path(self, path='models'):\n",
    "        return path\n",
    "    \n",
    "    def upload(self, local_file_path, remote_dest_path):\n",
    "        blob = self.bucket.blob(remote_dest_path)\n",
    "        blob.upload_from_filename(filename=local_file_path)\n",
    "    \n",
    "    def upload_model(self, local_file_path):\n",
    "        self.upload(local_file_path,\n",
    "                      '%s/%s' % (self.models_path(), self._file_name(local_file_path)))\n",
    "\n",
    "    def download(self, local_file_path, remote_src_path):\n",
    "        blob = self.bucket.blob(remote_src_path)\n",
    "        blob.download_to_filename(local_file_path)\n",
    "\n",
    "    def download_model(self, local_file_path):\n",
    "        self.download(local_file_path,\n",
    "                      '%s/%s' % (self.models_path(), self._file_name(local_file_path)))\n",
    "\n",
    "    def _file_name(self, file_path):\n",
    "        return os.path.basename(file_path)\n"
   ]
  },
  {
   "cell_type": "code",
   "execution_count": null,
   "metadata": {},
   "outputs": [],
   "source": [
    "if __name__ == '__main__':\n",
    "    gcs = GoogleCloudStorage()\n",
    "    to_upload = True\n",
    "    if to_upload:\n",
    "        gcs.upload_model('README.md')\n",
    "    else:\n",
    "        gcs.download_model('README.md')"
   ]
  },
  {
   "cell_type": "code",
   "execution_count": null,
   "metadata": {},
   "outputs": [],
   "source": []
  }
 ],
 "metadata": {
  "kernelspec": {
   "display_name": "Python 3",
   "language": "python",
   "name": "python3"
  },
  "language_info": {
   "codemirror_mode": {
    "name": "ipython",
    "version": 3
   },
   "file_extension": ".py",
   "mimetype": "text/x-python",
   "name": "python",
   "nbconvert_exporter": "python",
   "pygments_lexer": "ipython3",
   "version": "3.6.2"
  },
  "toc": {
   "nav_menu": {},
   "number_sections": true,
   "sideBar": true,
   "skip_h1_title": false,
   "toc_cell": false,
   "toc_position": {},
   "toc_section_display": "block",
   "toc_window_display": false
  }
 },
 "nbformat": 4,
 "nbformat_minor": 2
}
