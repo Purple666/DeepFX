{
 "cells": [
  {
   "cell_type": "code",
   "execution_count": null,
   "metadata": {
    "collapsed": true
   },
   "outputs": [],
   "source": [
    "import warnings\n",
    "import itertools\n",
    "import rl.callbacks\n",
    "import numpy as np"
   ]
  },
  {
   "cell_type": "code",
   "execution_count": null,
   "metadata": {
    "collapsed": true
   },
   "outputs": [],
   "source": [
    "class ModelSaver(rl.callbacks.TrainEpisodeLogger):\n",
    "    def __init__(self, filepath, monitor='loss', verbose=1, save_best_only=True, mode='min', save_weights_only=False):\n",
    "        if filepath is None:\n",
    "            raise ValueError('Give value to filepath. (Given: %s)' % filepath)\n",
    "        self.best_monitor_value = None\n",
    "        self.filepath = filepath\n",
    "        self.monitor = monitor\n",
    "        self.verbose = verbose\n",
    "        self.save_best_only = save_best_only\n",
    "        self.mode = mode\n",
    "        self.save_weights_only = save_weights_only\n",
    "        if mode not in ('min', 'max'):\n",
    "            raise ValueError(\"Give 'min' or 'max' to mode. (Given: %s)\" % mode)\n",
    "        self.mode = mode\n",
    "        \n",
    "        super().__init__()\n",
    "\n",
    "    def on_episode_end(self, episode, logs):\n",
    "        print('========== Model Saver output ==============')\n",
    "        monitor_value = self._formatted_metrics(episode)[self.monitor]\n",
    "\n",
    "        #try:\n",
    "        print('%s value: %e' % (self.monitor, monitor_value))\n",
    "        values = {'episode': episode, self.monitor: monitor_value}\n",
    "        if not self.save_best_only:\n",
    "            values['previous_monitor'] = monitor_value\n",
    "            self._save_model(values)            \n",
    "        elif self.best_monitor_value is None or self._is_this_episode_improved(monitor_value):\n",
    "            previous_value = self.best_monitor_value\n",
    "            self.best_monitor_value = monitor_value\n",
    "            values['previous_monitor'] = previous_value\n",
    "            self._save_model(values)\n",
    "            print('%s %s value: %e' % (self.mode, self.monitor, self.best_monitor_value))\n",
    "        #except:\n",
    "        #    print('Not a float value given.')\n",
    "        print('========== /Model Saver output =============')\n",
    "        super().on_episode_end(episode, logs)\n",
    "\n",
    "    def _is_this_episode_improved(self, monitor_value):\n",
    "        if self.mode == 'min':\n",
    "            return monitor_value < self.best_monitor_value\n",
    "        else:\n",
    "            return monitor_value > self.best_monitor_value\n",
    "        \n",
    "    def _save_model(self, kwargs):\n",
    "        previous_monitor = kwargs['previous_monitor']\n",
    "        filepath = self.filepath.format_map(kwargs)\n",
    "        if self.verbose > 0:\n",
    "            print(\"Step %05d: model improved\\n  from %e\\n    to %e,\"\n",
    "                  ' saving model to %s'\n",
    "                  % (self.step, previous_monitor or 0.0,\n",
    "                     self.best_monitor_value or 0.0, filepath))\n",
    "        if self.save_weights_only:\n",
    "            self.model.save_weights(filepath + '.hdf5', overwrite=True)\n",
    "            print('Save weights to %s has done.' % filepath)\n",
    "        else:\n",
    "            self.model.model.save(filepath + '.h5', overwrite=True)\n",
    "            print('Save model to %s has done.' % filepath)\n",
    "\n",
    "    def _formatted_metrics(self, episode):\n",
    "        # Format all metrics.\n",
    "        metrics = np.array(self.metrics[episode])\n",
    "        metrics_variables = []\n",
    "        with warnings.catch_warnings():\n",
    "            warnings.filterwarnings('error')\n",
    "            for idx, name in enumerate(self.metrics_names):\n",
    "                try:\n",
    "                    value = np.nanmean(metrics[:, idx])\n",
    "                except Warning:\n",
    "                    if name == 'loss':\n",
    "                        value = float('inf')\n",
    "                    else:\n",
    "                        value = '--'\n",
    "                metrics_variables += [name, value]\n",
    "        return dict(itertools.zip_longest(*[iter(metrics_variables)] * 2, fillvalue=\"\"))\n",
    "        "
   ]
  }
 ],
 "metadata": {
  "kernelspec": {
   "display_name": "Python 3",
   "language": "python",
   "name": "python3"
  },
  "language_info": {
   "codemirror_mode": {
    "name": "ipython",
    "version": 3
   },
   "file_extension": ".py",
   "mimetype": "text/x-python",
   "name": "python",
   "nbconvert_exporter": "python",
   "pygments_lexer": "ipython3",
   "version": "3.6.2"
  },
  "toc": {
   "nav_menu": {},
   "number_sections": true,
   "sideBar": true,
   "skip_h1_title": false,
   "toc_cell": false,
   "toc_position": {},
   "toc_section_display": "block",
   "toc_window_display": false
  }
 },
 "nbformat": 4,
 "nbformat_minor": 2
}
