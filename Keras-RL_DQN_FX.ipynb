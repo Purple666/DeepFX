{
 "cells": [
  {
   "cell_type": "markdown",
   "metadata": {},
   "source": [
    "[[Python] Keras-RLで簡単に強化学習(DQN)を試す](http://qiita.com/inoory/items/e63ade6f21766c7c2393)を参考に、エージェントを作成する。FXの自動取引を行い、利益を出すのが目標。"
   ]
  },
  {
   "cell_type": "code",
   "execution_count": null,
   "metadata": {
    "scrolled": false
   },
   "outputs": [
    {
     "name": "stderr",
     "output_type": "stream",
     "text": [
      "Using TensorFlow backend.\n"
     ]
    }
   ],
   "source": [
    "import matplotlib as mpl\n",
    "mpl.use('tkagg')\n",
    "import numpy as np\n",
    "import pandas as pd\n",
    "import talib\n",
    "from logging import getLogger, DEBUG, INFO, WARN, ERROR, CRITICAL\n",
    "import os\n",
    "import logging\n",
    "from logging import StreamHandler, LogRecord\n",
    "import base64\n",
    "\n",
    "from hist_data import HistData\n",
    "from fx_trade import FXTrade\n",
    "from deep_fx import DeepFX\n",
    "from debug_tools import DebugTools"
   ]
  },
  {
   "cell_type": "code",
   "execution_count": null,
   "metadata": {
    "code_folding": []
   },
   "outputs": [],
   "source": [
    "import crcmod\n",
    "class LogRecordWithCRC16ThereadID(logging.LogRecord):\n",
    "    def __init__(self, *args, **kwargs):\n",
    "        super().__init__(*args, **kwargs)\n",
    "        self.crc16threadid = self._calc_crc16(self.process)\n",
    "\n",
    "    def _calc_crc16(self, int_value):\n",
    "        byte_array = str(int_value).encode('utf-8')\n",
    "        crc16 = crcmod.Crc(0x18005)\n",
    "        crc16.update(byte_array)\n",
    "        return crc16.hexdigest()\n",
    "\n",
    "def init_logger(sd_loglevel=logging.WARN, stream_loglevel=logging.CRITICAL):\n",
    "    logging.setLogRecordFactory(LogRecordWithCRC16ThereadID)\n",
    "    logger = logging.getLogger('deepfx')\n",
    "    logger.setLevel(sd_loglevel)\n",
    "    formatter = logging.Formatter('[%(crc16threadid)s] %(message)s')\n",
    "\n",
    "    if sd_loglevel:\n",
    "        import google\n",
    "        from google.cloud.logging import Client\n",
    "        from google.cloud.logging.handlers import CloudLoggingHandler\n",
    "        client = google.cloud.logging.Client \\\n",
    "            .from_service_account_json(os.environ.get('GOOGLE_SERVICE_ACCOUNT_JSON_PATH'))\n",
    "        handler = CloudLoggingHandler(client, name='deepfx')\n",
    "        handler.setLevel(sd_loglevel)\n",
    "        handler.setFormatter(formatter)\n",
    "        logger.addHandler(handler)\n",
    "        handler = None\n",
    "\n",
    "    if stream_loglevel:\n",
    "        handler = StreamHandler()\n",
    "        handler.setLevel(stream_loglevel)\n",
    "        handler.setFormatter(formatter)\n",
    "        logger.addHandler(handler)\n",
    "        handler = None\n",
    "\n",
    "    return logger"
   ]
  },
  {
   "cell_type": "code",
   "execution_count": null,
   "metadata": {},
   "outputs": [],
   "source": [
    "deepfx_logger = init_logger(stream_loglevel=None)\n",
    "deepfx_logger.critical('DeepFX Started: %s' % DebugTools.now_str())\n",
    "deepfx_logger.debug   ('loglevel debug    test')\n",
    "deepfx_logger.info    ('loglevel info     test')\n",
    "deepfx_logger.warning ('loglevel warn     test')\n",
    "deepfx_logger.error   ('loglevel error    test')\n",
    "deepfx_logger.critical('loglevel critical test')"
   ]
  },
  {
   "cell_type": "code",
   "execution_count": null,
   "metadata": {
    "scrolled": true
   },
   "outputs": [
    {
     "name": "stdout",
     "output_type": "stream",
     "text": [
      "header is included\n"
     ]
    }
   ],
   "source": [
    "hd = HistData(csv_path = 'historical_data/DAT_ASCII_USDJPY_M1_201710_m5.csv',\n",
    "                     begin_date='2017-10-02T00:00:00',\n",
    "                     end_date='2017-10-09T23:59:59')"
   ]
  },
  {
   "cell_type": "code",
   "execution_count": null,
   "metadata": {
    "scrolled": true
   },
   "outputs": [
    {
     "data": {
      "text/plain": [
       "1728"
      ]
     },
     "execution_count": 5,
     "metadata": {},
     "output_type": "execute_result"
    }
   ],
   "source": [
    "hd.data()\n",
    "len(hd.data())"
   ]
  },
  {
   "cell_type": "code",
   "execution_count": null,
   "metadata": {},
   "outputs": [],
   "source": [
    "env = FXTrade(1000000, 0.08, hd, logger=deepfx_logger)\n",
    "#env = FXTrade(1000000, 0.08, h, logger=logger)\n",
    "prepared_model_filename = None #'Keras-RL_DQN_FX_model_meanq1.440944e+06_episode00003.h5'\n",
    "dfx = DeepFX(env, prepared_model_filename=prepared_model_filename, steps = 100000, logger=deepfx_logger)"
   ]
  },
  {
   "cell_type": "code",
   "execution_count": null,
   "metadata": {
    "scrolled": true
   },
   "outputs": [],
   "source": [
    "is_to_train = True\n",
    "if is_to_train:\n",
    "    dfx.train(is_for_time_measurement=True)\n",
    "else:\n",
    "    dfx.test(1, [EpisodeLogger()])"
   ]
  },
  {
   "cell_type": "code",
   "execution_count": null,
   "metadata": {},
   "outputs": [],
   "source": [
    "deepfx_logger.critical('DeepFX Finished: %s' % DebugTools.now_str())"
   ]
  },
  {
   "cell_type": "code",
   "execution_count": null,
   "metadata": {
    "scrolled": true
   },
   "outputs": [],
   "source": [
    "%matplotlib notebook\n",
    "import matplotlib.pyplot as plt\n",
    "import numpy as np\n",
    "data = hd.data()['Close']\n",
    "x = data.index\n",
    "y = data.values\n",
    "sd = 1\n",
    "upper, middle, lower = talib.BBANDS(data.values, timeperiod=20, matype=talib.MA_Type.SMA, nbdevup=sd, nbdevdn=sd)\n",
    "[plt.plot(x, val) for val in [y, upper, middle, lower]]"
   ]
  },
  {
   "cell_type": "code",
   "execution_count": null,
   "metadata": {
    "scrolled": true
   },
   "outputs": [],
   "source": [
    "data.values"
   ]
  },
  {
   "cell_type": "markdown",
   "metadata": {},
   "source": [
    "## References\n",
    "\n",
    "- [Deep Q-LearningでFXしてみた](http://recruit.gmo.jp/engineer/jisedai/blog/deep-q-learning/)\n",
    "- [slide](https://www.slideshare.net/JunichiroKatsuta/deep-qlearningfx)"
   ]
  },
  {
   "cell_type": "markdown",
   "metadata": {},
   "source": [
    "## TODO\n",
    "\n",
    "足の配列について、indexの外を読み出そうとしている節があるので直す。\n",
    "\n",
    "```json\n",
    "{\n",
    " insertId:  \"1l630l2g1k8tnms\"  \n",
    " jsonPayload: {…}  \n",
    " logName:  \"projects/deep-fx/logs/deepfx\"  \n",
    " receiveTimestamp:  \"2017-11-18T17:12:18.459939016Z\"  \n",
    " resource: {…}  \n",
    " severity:  \"WARNING\"  \n",
    " timestamp:  \"2017-11-18T17:12:18.459939016Z\"  \n",
    "}\n",
    "```"
   ]
  },
  {
   "cell_type": "code",
   "execution_count": null,
   "metadata": {},
   "outputs": [],
   "source": []
  }
 ],
 "metadata": {
  "kernelspec": {
   "display_name": "Python 3",
   "language": "python",
   "name": "python3"
  },
  "language_info": {
   "codemirror_mode": {
    "name": "ipython",
    "version": 3
   },
   "file_extension": ".py",
   "mimetype": "text/x-python",
   "name": "python",
   "nbconvert_exporter": "python",
   "pygments_lexer": "ipython3",
   "version": "3.6.2"
  },
  "toc": {
   "nav_menu": {},
   "number_sections": true,
   "sideBar": true,
   "skip_h1_title": false,
   "toc_cell": false,
   "toc_position": {},
   "toc_section_display": "block",
   "toc_window_display": false
  }
 },
 "nbformat": 4,
 "nbformat_minor": 2
}
