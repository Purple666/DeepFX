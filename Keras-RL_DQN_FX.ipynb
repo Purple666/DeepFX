{
 "cells": [
  {
   "cell_type": "markdown",
   "metadata": {},
   "source": [
    "[[Python] Keras-RLで簡単に強化学習(DQN)を試す](http://qiita.com/inoory/items/e63ade6f21766c7c2393)を参考に、エージェントを作成する。FXの自動取引を行い、利益を出すのが目標。"
   ]
  },
  {
   "cell_type": "code",
   "execution_count": null,
   "metadata": {
    "scrolled": false
   },
   "outputs": [],
   "source": [
    "import matplotlib as mpl\n",
    "mpl.use('tkagg')\n",
    "import numpy as np\n",
    "import pandas as pd\n",
    "import talib\n",
    "from logging import getLogger, DEBUG, INFO, WARN, ERROR, CRITICAL\n",
    "import os\n",
    "import logging\n",
    "from logging import StreamHandler, LogRecord\n",
    "from episode_logger import EpisodeLogger\n",
    "from test_output_logger import TestOutputLogger\n",
    "\n",
    "from hist_data import HistData, BitcoinHistData\n",
    "from fx_trade import FXTrade\n",
    "from bitcoin_trade import BitcoinTrade\n",
    "from deep_fx import DeepFX\n",
    "from debug_tools import DebugTools"
   ]
  },
  {
   "cell_type": "code",
   "execution_count": null,
   "metadata": {
    "code_folding": []
   },
   "outputs": [],
   "source": [
    "import crcmod\n",
    "class LogRecordWithHexThereadID(logging.LogRecord):\n",
    "    def __init__(self, *args, **kwargs):\n",
    "        super().__init__(*args, **kwargs)\n",
    "        self.hex_threadid = self._calc_hex(self.process)\n",
    "\n",
    "    def _calc_hex(self, digit_value):\n",
    "        return hex(digit_value)\n",
    "\n",
    "def init_logger(sd_loglevel=logging.WARN, stream_loglevel=logging.CRITICAL):\n",
    "    logging.setLogRecordFactory(LogRecordWithHexThereadID)\n",
    "    logger = logging.getLogger('deepfx')\n",
    "    logger.setLevel(sd_loglevel)\n",
    "    formatter = logging.Formatter('[%(hex_threadid)s] %(message)s')\n",
    "\n",
    "    if sd_loglevel:\n",
    "        import google\n",
    "        from google.cloud.logging import Client\n",
    "        from google.cloud.logging.handlers import CloudLoggingHandler\n",
    "        client = google.cloud.logging.Client \\\n",
    "            .from_service_account_json(os.environ.get('GOOGLE_SERVICE_ACCOUNT_JSON_PATH'))\n",
    "        handler = CloudLoggingHandler(client, name='deepfx')\n",
    "        handler.setLevel(sd_loglevel)\n",
    "        handler.setFormatter(formatter)\n",
    "        logger.addHandler(handler)\n",
    "        handler = None\n",
    "\n",
    "    if stream_loglevel:\n",
    "        handler = StreamHandler()\n",
    "        handler.setLevel(stream_loglevel)\n",
    "        handler.setFormatter(formatter)\n",
    "        logger.addHandler(handler)\n",
    "        handler = None\n",
    "\n",
    "    return logger"
   ]
  },
  {
   "cell_type": "code",
   "execution_count": null,
   "metadata": {},
   "outputs": [],
   "source": [
    "deepfx_logger = init_logger(stream_loglevel=None)\n",
    "deepfx_logger.critical('DeepFX Started: %s' % DebugTools.now_str())\n",
    "deepfx_logger.debug   ('loglevel debug    test')\n",
    "deepfx_logger.info    ('loglevel info     test')\n",
    "deepfx_logger.warning ('loglevel warn     test')\n",
    "deepfx_logger.error   ('loglevel error    test')\n",
    "deepfx_logger.critical('loglevel critical test')"
   ]
  },
  {
   "cell_type": "code",
   "execution_count": null,
   "metadata": {},
   "outputs": [],
   "source": [
    "is_for_fx = False\n",
    "is_for_bitcoin = True\n",
    "is_to_train = True"
   ]
  },
  {
   "cell_type": "code",
   "execution_count": null,
   "metadata": {
    "scrolled": true
   },
   "outputs": [],
   "source": [
    "if is_for_fx:\n",
    "    hd = HistData(csv_path = 'historical_data/DAT_ASCII_USDJPY_M1_201710_h1.csv',\n",
    "                     begin_date='2017-10-02T00:00:00',\n",
    "                     end_date='2017-10-02T01:59:59')\n",
    "elif is_for_bitcoin:\n",
    "    csv_path = 'historical_data/coincheckJPY_1-min_data_2014-10-31_to_2017-10-20_h1.csv'\n",
    "    if is_to_train:\n",
    "        begin_date='2017-09-01T00:00:00'\n",
    "        end_date='2017-09-30T23:59:59'\n",
    "    else:\n",
    "        begin_date='2017-10-01T00:00:00'\n",
    "        end_date='2017-10-10T23:59:59'\n",
    "        \n",
    "    hd = HistData(csv_path, begin_date, end_date)\n"
   ]
  },
  {
   "cell_type": "code",
   "execution_count": null,
   "metadata": {
    "scrolled": true
   },
   "outputs": [],
   "source": [
    "hd.data()\n",
    "len(hd.data())"
   ]
  },
  {
   "cell_type": "code",
   "execution_count": null,
   "metadata": {},
   "outputs": [],
   "source": [
    "if is_for_fx:\n",
    "    env = FXTrade(1000000, 0.08, hd, logger=deepfx_logger)\n",
    "    #env = FXTrade(1000000, 0.08, h, logger=logger)\n",
    "    prepared_model_filename = None #'Keras-RL_DQN_FX_model_meanq1.440944e+06_episode00003.h5'\n",
    "    dfx = DeepFX(env, prepared_model_filename=prepared_model_filename, steps = 1000000, logger=deepfx_logger)\n",
    "elif is_for_bitcoin:\n",
    "    env = BitcoinTrade(10000000, None, hd, logger=deepfx_logger, amount_unit=0.001)\n",
    "    #env = FXTrade(1000000, 0.08, h, logger=logger)\n",
    "    prepared_model_filename = None #'Keras-RL_DQN_FX_model_meanq2.149058e+07_episode05184.h5'\n",
    "    dfx = DeepFX(env, prepared_model_filename=prepared_model_filename, steps = 10000000, logger=deepfx_logger)\n",
    "    #dfx = DeepFX(env, prepared_model_filename=prepared_model_filename, steps = 1000, logger=deepfx_logger)"
   ]
  },
  {
   "cell_type": "code",
   "execution_count": null,
   "metadata": {
    "scrolled": true
   },
   "outputs": [],
   "source": [
    "if is_to_train:\n",
    "    dfx.train(is_for_time_measurement=True)\n",
    "else:\n",
    "    dfx.test([TestOutputLogger(hd)])"
   ]
  },
  {
   "cell_type": "code",
   "execution_count": null,
   "metadata": {},
   "outputs": [],
   "source": [
    "deepfx_logger.critical('DeepFX Finished: %s' % DebugTools.now_str())"
   ]
  },
  {
   "cell_type": "code",
   "execution_count": null,
   "metadata": {},
   "outputs": [],
   "source": [
    "import os\n",
    "import subprocess\n",
    "if os.environ.get('SLACK_WEBHOOK_URL') and os.environ.get('GOOGLE_STACKDRIVER_URL'):\n",
    "    google_stackdriver_url = os.environ.get('GOOGLE_STACKDRIVER_URL')\n",
    "    payload = '{\"username\":\"deepfx\",\"icon_emoji\":\":+1:\",\"channel\":\"deepfx\",\"attachments\":[{\"color\":\"#36a64f\",\"title\":\"DeepFX Finished\",\"title_link\":\"%s\",\"text\":\"<@%s> DeepFX Finished\"}]}' % (google_stackdriver_url, os.environ.get('SLACK_NOTIFY_RECIEVE_USER'))\n",
    "    command = ['curl']\n",
    "    command.append('-XPOST')\n",
    "    command.append('-HContent-Type: application/json')\n",
    "    command.append(\"-d%s\" % payload)\n",
    "    command.append(os.environ.get('SLACK_WEBHOOK_URL'))\n",
    "    subprocess.run(command)\n",
    "else:\n",
    "    print('Skipped Slack Notification.')"
   ]
  },
  {
   "cell_type": "code",
   "execution_count": null,
   "metadata": {
    "scrolled": false
   },
   "outputs": [],
   "source": [
    "%matplotlib notebook\n",
    "import matplotlib.pyplot as plt\n",
    "import numpy as np\n",
    "data = hd.data()['Close']\n",
    "x = data.index\n",
    "y = data.values\n",
    "sd = 1\n",
    "upper, middle, lower = talib.BBANDS(data.values, timeperiod=20, matype=talib.MA_Type.SMA, nbdevup=sd, nbdevdn=sd)\n",
    "[plt.plot(x, val) for val in [y, upper, middle, lower]]"
   ]
  },
  {
   "cell_type": "code",
   "execution_count": null,
   "metadata": {
    "scrolled": true
   },
   "outputs": [],
   "source": [
    "data.values"
   ]
  },
  {
   "cell_type": "markdown",
   "metadata": {},
   "source": [
    "## References\n",
    "\n",
    "- [Deep Q-LearningでFXしてみた](http://recruit.gmo.jp/engineer/jisedai/blog/deep-q-learning/)\n",
    "- [slide](https://www.slideshare.net/JunichiroKatsuta/deep-qlearningfx)"
   ]
  }
 ],
 "metadata": {
  "kernelspec": {
   "display_name": "Python 3",
   "language": "python",
   "name": "python3"
  },
  "language_info": {
   "codemirror_mode": {
    "name": "ipython",
    "version": 3
   },
   "file_extension": ".py",
   "mimetype": "text/x-python",
   "name": "python",
   "nbconvert_exporter": "python",
   "pygments_lexer": "ipython3",
   "version": "3.6.3"
  },
  "toc": {
   "nav_menu": {},
   "number_sections": true,
   "sideBar": true,
   "skip_h1_title": false,
   "toc_cell": false,
   "toc_position": {},
   "toc_section_display": "block",
   "toc_window_display": false
  }
 },
 "nbformat": 4,
 "nbformat_minor": 2
}
