{
 "cells": [
  {
   "cell_type": "code",
   "execution_count": null,
   "metadata": {
    "collapsed": true
   },
   "outputs": [],
   "source": [
    "# histdata.comでDLした1分足のデータを任意の足に変換する\n",
    "\n",
    "# http://www.histdata.com/download-free-forex-historical-data/?/ascii/1-minute-bar-quotes/usdjpy/2017/10"
   ]
  },
  {
   "cell_type": "code",
   "execution_count": null,
   "metadata": {},
   "outputs": [],
   "source": [
    "import pandas as pd\n",
    "import numpy as np\n",
    "from hist_data import HistData, BitcoinHistData"
   ]
  },
  {
   "cell_type": "code",
   "execution_count": null,
   "metadata": {
    "code_folding": []
   },
   "outputs": [],
   "source": [
    "def get_new_index(old_dataframe, freq='5min'):\n",
    "    start = hd.data()[0:1].index[0]\n",
    "    end = hd.data()[-1:].index[0]\n",
    "    new_index = pd.date_range(start, end, None, freq)\n",
    "    return new_index\n",
    "\n",
    "def create_dataframe(dataarray):\n",
    "    new_df = pd.DataFrame.from_records(dataarray,\\\n",
    "                          index=['Date'], columns=['Date', 'Open', 'High', 'Low', 'Close', 'Volume'])\n",
    "    return new_df\n",
    "\n",
    "def create_new_dataarray(hist_data, new_index, i):\n",
    "    old_dataframe = hist_data.data()\n",
    "    start = new_index[i].to_pydatetime()\n",
    "    end = new_index[i+1].to_pydatetime()\n",
    "    slice = old_dataframe.loc[start:end][:-1]\n",
    "    if len(slice) is 0:\n",
    "        return\n",
    "    open = slice.ix[0:1]['Open'][0]\n",
    "    high = max(slice['High'])\n",
    "    low = min(slice['Low'])\n",
    "    close = slice.ix[-1:]['Close'][0]\n",
    "    if type(hist_data) == HistData:\n",
    "        volume = slice.sum()['Volume']\n",
    "    elif type(hist_data) == BitcoinHistData:\n",
    "        volume = slice.sum()['Volume_(BTC)']\n",
    "    return np.array([start, open, high, low, close, volume])\n",
    "\n",
    "def create_new_dataframe(hist_data, freq='5min'):\n",
    "    old_dataframe = hist_data.data()\n",
    "    new_index = get_new_index(old_dataframe, freq)\n",
    "    datalist = [create_new_dataarray(hist_data, new_index, i) for i in range(len(new_index) - 1)]\n",
    "    none_removed_array = np.array([x for x in datalist if x is not None])\n",
    "    new_df = create_dataframe(none_removed_array)\n",
    "    return new_df\n"
   ]
  },
  {
   "cell_type": "code",
   "execution_count": null,
   "metadata": {
    "scrolled": false
   },
   "outputs": [],
   "source": [
    "if False:\n",
    "    read_filepath = 'historical_data/DAT_ASCII_USDJPY_M1_201710.csv'\n",
    "    write_filepath = 'historical_data/DAT_ASCII_USDJPY_M1_201710_h1.csv'\n",
    "    hd = HistData(read_filepath)\n",
    "    new_df = create_new_dataframe(hd, freq='1h')\n",
    "    new_df.to_csv(write_filepath, sep=';', header=['Open', 'High', 'Low', 'Close', 'Volume'])"
   ]
  },
  {
   "cell_type": "code",
   "execution_count": null,
   "metadata": {
    "scrolled": true
   },
   "outputs": [
    {
     "name": "stdout",
     "output_type": "stream",
     "text": [
      "header is included\n"
     ]
    }
   ],
   "source": [
    "if True:\n",
    "    read_filepath = 'historical_data/coincheckJPY_1-min_data_2014-10-31_to_2017-10-20.csv'\n",
    "    write_filepath = 'historical_data/coincheckJPY_1-min_data_2014-10-31_to_2017-10-20_h1.csv'\n",
    "    hd = BitcoinHistData(read_filepath)\n",
    "    new_df = create_new_dataframe(hd, freq='1h')\n",
    "    new_df.to_csv(write_filepath, sep=';', header=['Open', 'High', 'Low', 'Close', 'Volume'])"
   ]
  },
  {
   "cell_type": "code",
   "execution_count": null,
   "metadata": {
    "collapsed": true
   },
   "outputs": [],
   "source": []
  }
 ],
 "metadata": {
  "kernelspec": {
   "display_name": "Python 3",
   "language": "python",
   "name": "python3"
  },
  "language_info": {
   "codemirror_mode": {
    "name": "ipython",
    "version": 3
   },
   "file_extension": ".py",
   "mimetype": "text/x-python",
   "name": "python",
   "nbconvert_exporter": "python",
   "pygments_lexer": "ipython3",
   "version": "3.6.3"
  },
  "toc": {
   "nav_menu": {},
   "number_sections": true,
   "sideBar": true,
   "skip_h1_title": false,
   "toc_cell": false,
   "toc_position": {},
   "toc_section_display": "block",
   "toc_window_display": false
  }
 },
 "nbformat": 4,
 "nbformat_minor": 2
}
