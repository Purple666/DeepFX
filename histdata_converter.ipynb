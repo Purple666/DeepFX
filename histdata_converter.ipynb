{
 "cells": [
  {
   "cell_type": "code",
   "execution_count": null,
   "metadata": {
    "collapsed": true
   },
   "outputs": [],
   "source": [
    "# histdata.comでDLした1分足のデータを任意の足に変換する\n",
    "\n",
    "# http://www.histdata.com/download-free-forex-historical-data/?/ascii/1-minute-bar-quotes/usdjpy/2017/10"
   ]
  },
  {
   "cell_type": "code",
   "execution_count": null,
   "metadata": {
    "collapsed": true
   },
   "outputs": [],
   "source": [
    "import pandas as pd\n",
    "import numpy as np\n",
    "from hist_data import HistData"
   ]
  },
  {
   "cell_type": "code",
   "execution_count": null,
   "metadata": {
    "code_folding": [],
    "collapsed": true
   },
   "outputs": [],
   "source": [
    "def get_new_index(old_dataframe, freq='5min'):\n",
    "    start = hd.data()[0:1].index[0]\n",
    "    end = hd.data()[-1:].index[0]\n",
    "    new_index = pd.date_range(start, end, None, freq)\n",
    "    return new_index\n",
    "\n",
    "def create_dataframe(dataarray):\n",
    "    new_df = pd.DataFrame.from_records(dataarray,\\\n",
    "                          index=['date'], columns=['Date', 'Open', 'High', 'Low', 'Close', 'Volume'])\n",
    "    return new_df\n",
    "\n",
    "def create_new_dataarray(old_dataframe, new_index, i):\n",
    "    start = new_index[i].to_pydatetime()\n",
    "    end = new_index[i+1].to_pydatetime()\n",
    "    slice = old_dataframe.loc[start:end][:-1]\n",
    "    if len(slice) is 0:\n",
    "        return\n",
    "    open = slice.ix[0:1]['open'][0]\n",
    "    high = max(slice['high'])\n",
    "    low = min(slice['low'])\n",
    "    close = slice.ix[-1:]['close'][0]\n",
    "    volume = slice.sum()['volume']\n",
    "    return np.array([start, open, high, low, close, volume])\n",
    "\n",
    "def create_new_dataframe(old_dataframe, freq='5min'):\n",
    "    new_index = get_new_index(old_dataframe, freq)\n",
    "    datalist = [create_new_dataarray(old_dataframe, new_index, i) for i in range(len(new_index) - 1)]\n",
    "    none_removed_array = np.array([x for x in datalist if x is not None])\n",
    "    new_df = create_dataframe(none_removed_array)\n",
    "    return new_df\n"
   ]
  },
  {
   "cell_type": "code",
   "execution_count": null,
   "metadata": {
    "collapsed": true,
    "scrolled": false
   },
   "outputs": [],
   "source": [
    "read_filepath = 'historical_data/DAT_ASCII_USDJPY_M1_201710.csv'\n",
    "write_filepath = 'historical_data/DAT_ASCII_USDJPY_M1_201710_m5.csv'\n",
    "hd = HistData(read_filepath)\n",
    "new_df = create_new_dataframe(hd.data())\n",
    "new_df.to_csv(write_filepath, sep=';', header=['open', 'high', 'low', 'close', 'volume'])"
   ]
  },
  {
   "cell_type": "code",
   "execution_count": null,
   "metadata": {
    "collapsed": true,
    "scrolled": true
   },
   "outputs": [],
   "source": []
  },
  {
   "cell_type": "code",
   "execution_count": null,
   "metadata": {
    "collapsed": true
   },
   "outputs": [],
   "source": []
  }
 ],
 "metadata": {
  "kernelspec": {
   "display_name": "Python 3",
   "language": "python",
   "name": "python3"
  },
  "language_info": {
   "codemirror_mode": {
    "name": "ipython",
    "version": 3
   },
   "file_extension": ".py",
   "mimetype": "text/x-python",
   "name": "python",
   "nbconvert_exporter": "python",
   "pygments_lexer": "ipython3",
   "version": "3.6.2"
  },
  "toc": {
   "nav_menu": {},
   "number_sections": true,
   "sideBar": true,
   "skip_h1_title": false,
   "toc_cell": false,
   "toc_position": {},
   "toc_section_display": "block",
   "toc_window_display": false
  }
 },
 "nbformat": 4,
 "nbformat_minor": 2
}
